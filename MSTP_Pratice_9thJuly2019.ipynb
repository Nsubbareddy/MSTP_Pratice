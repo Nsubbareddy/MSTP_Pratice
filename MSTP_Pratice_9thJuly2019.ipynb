{
 "cells": [
  {
   "cell_type": "code",
   "execution_count": 3,
   "metadata": {},
   "outputs": [
    {
     "name": "stdout",
     "output_type": "stream",
     "text": [
      "5\n"
     ]
    }
   ],
   "source": [
    "# to check the given number is prime or not\n",
    "n=int(input())\n",
    "def isprime():\n",
    "    for i in range(1,n):\n",
    "        if(n%i==0):\n",
    "            print(\"not prime\")\n",
    "        else:\n",
    "            print(\"print\")\n",
    "def averageprime()            \n",
    "            \n",
    "            "
   ]
  },
  {
   "cell_type": "code",
   "execution_count": 4,
   "metadata": {},
   "outputs": [
    {
     "data": {
      "text/plain": [
       "[1, 2, 3]"
      ]
     },
     "execution_count": 4,
     "metadata": {},
     "output_type": "execute_result"
    }
   ],
   "source": [
    "# lists\n",
    "l=[1,2,3]\n",
    "l.sort()\n",
    "l"
   ]
  },
  {
   "cell_type": "code",
   "execution_count": 11,
   "metadata": {},
   "outputs": [
    {
     "name": "stdout",
     "output_type": "stream",
     "text": [
      "5\n",
      "1\n",
      "2\n",
      "2\n",
      "3\n",
      "3\n",
      "2\n"
     ]
    }
   ],
   "source": [
    "# Read the Number of Participants\n",
    "n=int(input())\n",
    "scores=[]\n",
    "for i in range(n):\n",
    "    s = int(input())\n",
    "    scores.append(s)\n",
    "scores=sorted(scores,reverse=True)\n",
    "max_score=max(scores)\n",
    "runner_up_score=scores[1]\n",
    "try:\n",
    "    for i in range(1,n):\n",
    "        if max_score==scores[i]:\n",
    "            runner_up_score=scores[i+1]\n",
    "    #print(\"the Runner up score is:\",runner_up_score)\n",
    "    print(runner_up_score,end=\" \")\n",
    "except IndexError:\n",
    "    print(\"sorry There is No Runner up Score\")\n",
    "    \n",
    "    "
   ]
  },
  {
   "cell_type": "code",
   "execution_count": 28,
   "metadata": {},
   "outputs": [
    {
     "data": {
      "text/plain": [
       "['ravi', 'siva', 'hari']"
      ]
     },
     "execution_count": 28,
     "metadata": {},
     "output_type": "execute_result"
    }
   ],
   "source": [
    "l2=l.copy()\n",
    "l2"
   ]
  },
  {
   "cell_type": "code",
   "execution_count": 29,
   "metadata": {},
   "outputs": [
    {
     "data": {
      "text/plain": [
       "['ravi', 'siva', 'hari', 1, 2, 3]"
      ]
     },
     "execution_count": 29,
     "metadata": {},
     "output_type": "execute_result"
    }
   ],
   "source": [
    "l=[1,2,3]\n",
    "l2.extend(l)\n",
    "l2"
   ]
  },
  {
   "cell_type": "code",
   "execution_count": 25,
   "metadata": {},
   "outputs": [
    {
     "name": "stdout",
     "output_type": "stream",
     "text": [
      "None\n"
     ]
    }
   ],
   "source": []
  },
  {
   "cell_type": "code",
   "execution_count": 30,
   "metadata": {},
   "outputs": [
    {
     "data": {
      "text/plain": [
       "['ravi', 'siva', 'hari', 1, 2, 3, 'ravi', 'raju', 'hari']"
      ]
     },
     "execution_count": 30,
     "metadata": {},
     "output_type": "execute_result"
    }
   ],
   "source": [
    "l3=[\"ravi\",\"raju\",\"hari\"]\n",
    "l2.extend(l3)\n",
    "l2"
   ]
  },
  {
   "cell_type": "code",
   "execution_count": 31,
   "metadata": {},
   "outputs": [
    {
     "data": {
      "text/plain": [
       "'hari'"
      ]
     },
     "execution_count": 31,
     "metadata": {},
     "output_type": "execute_result"
    }
   ],
   "source": [
    "l2.pop()"
   ]
  },
  {
   "cell_type": "code",
   "execution_count": 34,
   "metadata": {},
   "outputs": [
    {
     "ename": "ValueError",
     "evalue": "list.remove(x): x not in list",
     "output_type": "error",
     "traceback": [
      "\u001b[1;31m---------------------------------------------------------------------------\u001b[0m",
      "\u001b[1;31mValueError\u001b[0m                                Traceback (most recent call last)",
      "\u001b[1;32m<ipython-input-34-30db958a3b28>\u001b[0m in \u001b[0;36m<module>\u001b[1;34m\u001b[0m\n\u001b[1;32m----> 1\u001b[1;33m \u001b[0ml2\u001b[0m\u001b[1;33m.\u001b[0m\u001b[0mremove\u001b[0m\u001b[1;33m(\u001b[0m\u001b[1;36m1\u001b[0m\u001b[1;33m)\u001b[0m\u001b[1;33m\u001b[0m\u001b[1;33m\u001b[0m\u001b[0m\n\u001b[0m",
      "\u001b[1;31mValueError\u001b[0m: list.remove(x): x not in list"
     ]
    }
   ],
   "source": [
    "l2.remove(1)"
   ]
  },
  {
   "cell_type": "code",
   "execution_count": 35,
   "metadata": {},
   "outputs": [
    {
     "data": {
      "text/plain": [
       "'hari'"
      ]
     },
     "execution_count": 35,
     "metadata": {},
     "output_type": "execute_result"
    }
   ],
   "source": [
    "l2.pop(2)"
   ]
  },
  {
   "cell_type": "code",
   "execution_count": 36,
   "metadata": {},
   "outputs": [
    {
     "data": {
      "text/plain": [
       "['ravi', 'siva', 2, 3, 'ravi', 'raju']"
      ]
     },
     "execution_count": 36,
     "metadata": {},
     "output_type": "execute_result"
    }
   ],
   "source": [
    "l2"
   ]
  },
  {
   "cell_type": "code",
   "execution_count": 37,
   "metadata": {},
   "outputs": [
    {
     "data": {
      "text/plain": [
       "'siva'"
      ]
     },
     "execution_count": 37,
     "metadata": {},
     "output_type": "execute_result"
    }
   ],
   "source": [
    "l2.pop(1)"
   ]
  },
  {
   "cell_type": "code",
   "execution_count": 43,
   "metadata": {},
   "outputs": [
    {
     "name": "stdout",
     "output_type": "stream",
     "text": [
      "what index value you want to delete?3\n",
      "['siva', 'hari', 'krishna']\n"
     ]
    }
   ],
   "source": [
    "# remove an element based on the index\n",
    "l=[\"siva\",\"hari\",\"krishna\",\"raju\"]\n",
    "val=int(input('what index value you want to delete?'))\n",
    "for i in range(len(l)):\n",
    "    if val == i:\n",
    "        \n",
    "        l.remove(l[i])\n",
    "print(l)\n",
    "\n",
    "    "
   ]
  },
  {
   "cell_type": "markdown",
   "metadata": {},
   "source": [
    "### Read all the individual scores 10 sports persons display the winner name\n",
    "use Dictionaries for this problem"
   ]
  },
  {
   "cell_type": "code",
   "execution_count": 78,
   "metadata": {},
   "outputs": [
    {
     "name": "stdout",
     "output_type": "stream",
     "text": [
      "enter the sportsperson name:siva\n",
      "enter the score made by 20\n",
      "enter the sportsperson name:hari\n",
      "enter the score made by 30\n",
      "enter the sportsperson name:ravi\n",
      "enter the score made by 10\n",
      "[10, 20, 30]\n"
     ]
    },
    {
     "data": {
      "text/plain": [
       "'ravi'"
      ]
     },
     "execution_count": 78,
     "metadata": {},
     "output_type": "execute_result"
    }
   ],
   "source": [
    "sports={}\n",
    "# read scores and sportspersons names\n",
    "for i in range(3):\n",
    "    name=input(\"enter the sportsperson name:\")\n",
    "    score=int(input(\"enter the score made by \"))\n",
    "    sports[name]=score\n",
    "max_score=sorted(sports.values())\n",
    "print(max_score)\n",
    "name\n",
    "#print(sports)"
   ]
  },
  {
   "cell_type": "code",
   "execution_count": 51,
   "metadata": {},
   "outputs": [
    {
     "name": "stdout",
     "output_type": "stream",
     "text": [
      "enter a value Good Night\n",
      "Good Night 😶\n"
     ]
    }
   ],
   "source": [
    "d={\"hi\":'😀',\"Good Morning\":'🧑',\"Good Night\":'😶'}\n",
    "s=input(\"enter a value \")\n",
    "for a in d.items():\n",
    "    if(s==a[0]):\n",
    "        print(s,a[1])\n",
    "    "
   ]
  },
  {
   "cell_type": "code",
   "execution_count": 52,
   "metadata": {},
   "outputs": [
    {
     "data": {
      "text/plain": [
       "{'name:': 'subbareddy', 'age': '25', 'profession': 'mentor'}"
      ]
     },
     "execution_count": 52,
     "metadata": {},
     "output_type": "execute_result"
    }
   ],
   "source": [
    "sample={\"name:\":\"subbareddy\",\"age\":\"25\",\"profession\":\"mentor\"}\n",
    "sample"
   ]
  },
  {
   "cell_type": "code",
   "execution_count": 54,
   "metadata": {},
   "outputs": [
    {
     "name": "stdout",
     "output_type": "stream",
     "text": [
      "subbareddy\n",
      "25\n",
      "mentor\n"
     ]
    }
   ],
   "source": [
    "for i in sample.values():\n",
    "    print(i)"
   ]
  },
  {
   "cell_type": "code",
   "execution_count": 55,
   "metadata": {},
   "outputs": [
    {
     "name": "stdout",
     "output_type": "stream",
     "text": [
      "('name:', 'subbareddy')\n",
      "('age', '25')\n",
      "('profession', 'mentor')\n"
     ]
    }
   ],
   "source": [
    "for i in sample.items():\n",
    "    print(i)"
   ]
  },
  {
   "cell_type": "code",
   "execution_count": 58,
   "metadata": {},
   "outputs": [
    {
     "name": "stdout",
     "output_type": "stream",
     "text": [
      "available\n"
     ]
    }
   ],
   "source": [
    "if 'name:'in sample:\n",
    "    print('available')"
   ]
  },
  {
   "cell_type": "code",
   "execution_count": 60,
   "metadata": {},
   "outputs": [
    {
     "data": {
      "text/plain": [
       "{'name:': 'subbareddy', 'age': '25', 'profession': 'mentor', 'salary': 10000}"
      ]
     },
     "execution_count": 60,
     "metadata": {},
     "output_type": "execute_result"
    }
   ],
   "source": [
    "sample['salary']=10000\n",
    "sample"
   ]
  },
  {
   "cell_type": "code",
   "execution_count": 61,
   "metadata": {},
   "outputs": [
    {
     "data": {
      "text/plain": [
       "'mentor'"
      ]
     },
     "execution_count": 61,
     "metadata": {},
     "output_type": "execute_result"
    }
   ],
   "source": [
    "sample.pop('profession')"
   ]
  },
  {
   "cell_type": "code",
   "execution_count": 62,
   "metadata": {},
   "outputs": [
    {
     "data": {
      "text/plain": [
       "{'name:': 'subbareddy', 'age': '25'}"
      ]
     },
     "execution_count": 62,
     "metadata": {},
     "output_type": "execute_result"
    }
   ],
   "source": [
    "sample.popitem()\n",
    "sample"
   ]
  },
  {
   "cell_type": "code",
   "execution_count": 64,
   "metadata": {},
   "outputs": [],
   "source": [
    "del sample['name:']"
   ]
  },
  {
   "cell_type": "code",
   "execution_count": 65,
   "metadata": {},
   "outputs": [
    {
     "data": {
      "text/plain": [
       "{'age': '25'}"
      ]
     },
     "execution_count": 65,
     "metadata": {},
     "output_type": "execute_result"
    }
   ],
   "source": [
    "sample"
   ]
  },
  {
   "cell_type": "code",
   "execution_count": 66,
   "metadata": {},
   "outputs": [],
   "source": [
    "sample.clear()"
   ]
  },
  {
   "cell_type": "code",
   "execution_count": 67,
   "metadata": {},
   "outputs": [
    {
     "data": {
      "text/plain": [
       "{}"
      ]
     },
     "execution_count": 67,
     "metadata": {},
     "output_type": "execute_result"
    }
   ],
   "source": [
    "sample"
   ]
  },
  {
   "cell_type": "code",
   "execution_count": 69,
   "metadata": {},
   "outputs": [
    {
     "data": {
      "text/plain": [
       "{'name': 'subbareddy', 'age': '25', 'profession': 'mentor'}"
      ]
     },
     "execution_count": 69,
     "metadata": {},
     "output_type": "execute_result"
    }
   ],
   "source": [
    "sample=dict(name='subbareddy',age='25',profession='mentor')\n",
    "sample"
   ]
  },
  {
   "cell_type": "code",
   "execution_count": 15,
   "metadata": {},
   "outputs": [
    {
     "name": "stdout",
     "output_type": "stream",
     "text": [
      "enter the sportsperson name:siva\n",
      "enter the score made by 30\n",
      "enter the sportsperson name:hari\n",
      "enter the score made by 40\n",
      "enter the sportsperson name:kesava\n",
      "enter the score made by 23\n",
      "enter the sportsperson name:rajesh\n",
      "enter the score made by 45\n",
      "{'rajesh': 1, 'hari': 2, 'siva': 3, 'kesava': 4}\n"
     ]
    }
   ],
   "source": [
    "# Read all the individual scores of the batsman\n",
    "# and print their rankings based on the scores\n",
    "#pavan 10\n",
    "#ravi 20\n",
    "#lokesh 13\n",
    "#rajesh 15\n",
    "\n",
    "\n",
    "# 1 - ravi\n",
    "# 2 - rajesh\n",
    "# 3 - lokesh\n",
    "# 4 - pavan\n",
    "\n",
    "sports={}\n",
    "# read scores and sportspersons names\n",
    "for i in range(4):\n",
    "    name=input(\"enter the sportsperson name:\")\n",
    "    score=int(input(\"enter the score made by \"))\n",
    "    sports[name]=score\n",
    "    sort_score=sorted(sports.values(),reverse=True)\n",
    "    rank={}\n",
    "    r=0\n",
    "for i in sort_score:\n",
    "    r=r+1\n",
    "    for j in sports.items():\n",
    "        if i==j[1]:\n",
    "            rank[j[0]]=r\n",
    "print(rank)\n",
    "\n",
    "\n"
   ]
  },
  {
   "cell_type": "code",
   "execution_count": 12,
   "metadata": {},
   "outputs": [
    {
     "name": "stdout",
     "output_type": "stream",
     "text": [
      "10 20\n",
      "1\n",
      "2\n",
      "5\n"
     ]
    }
   ],
   "source": [
    "# to find no of common factors in given two integers\n",
    "a,b=list(map(int,input().split()))\n",
    "#count=0\n",
    "for i in range(1,a):\n",
    "    if(a%i==0 and b%i==0):\n",
    "        print(i)\n"
   ]
  },
  {
   "cell_type": "code",
   "execution_count": 17,
   "metadata": {},
   "outputs": [
    {
     "name": "stdout",
     "output_type": "stream",
     "text": [
      "10 20\n",
      "15\n"
     ]
    }
   ],
   "source": [
    "# to find the average of given two integers\n",
    "a,b=list(map(int,input().split()))\n",
    "c=0\n",
    "sum=0\n",
    "for i in range(a,b+1):\n",
    "    c=c+1\n",
    "    sum=sum+i\n",
    "print(sum//c)"
   ]
  },
  {
   "cell_type": "code",
   "execution_count": 18,
   "metadata": {},
   "outputs": [
    {
     "name": "stdout",
     "output_type": "stream",
     "text": [
      "12\n",
      "23\n",
      "22\n"
     ]
    }
   ],
   "source": [
    "for i in range(int(input()),int(input())):\n",
    "    c=0\n",
    "    s=0\n",
    "    s=s+i\n",
    "    c=c+1\n",
    "print(s//c)"
   ]
  },
  {
   "cell_type": "code",
   "execution_count": 26,
   "metadata": {},
   "outputs": [
    {
     "name": "stdout",
     "output_type": "stream",
     "text": [
      "1 -1 1\n"
     ]
    },
    {
     "data": {
      "text/plain": [
       "'1'"
      ]
     },
     "execution_count": 26,
     "metadata": {},
     "output_type": "execute_result"
    }
   ],
   "source": [
    "l=list(input())\n",
    "s=sorted(l,reverse=True)\n",
    "s[1]\n",
    "\n",
    "\n"
   ]
  },
  {
   "cell_type": "code",
   "execution_count": 46,
   "metadata": {},
   "outputs": [
    {
     "name": "stdout",
     "output_type": "stream",
     "text": [
      "hackerearth\n",
      "HACKEREARTH\n"
     ]
    }
   ],
   "source": [
    "# given a string in captial letter\n",
    "n=input()\n",
    "def stringcaptial(n):\n",
    "    print(n.upper())\n",
    "stringcaptial(n)\n",
    "    \n",
    "    \n",
    "#convert it into Neumerical format\n"
   ]
  },
  {
   "cell_type": "code",
   "execution_count": 35,
   "metadata": {},
   "outputs": [
    {
     "name": "stdout",
     "output_type": "stream",
     "text": [
      "2\n",
      "30\n",
      "1\n",
      "1\n"
     ]
    }
   ],
   "source": [
    "n1=int(input())\n",
    "n2=int(input())\n",
    "temp=n1\n",
    "if n1>n2:\n",
    "    temp=n2\n",
    "count = 0\n",
    "for i in range(1,temp):\n",
    "    if (n1%i==0 and n2%i==0):\n",
    "        print(i)\n",
    "    count+=1\n",
    "print(count)"
   ]
  },
  {
   "cell_type": "code",
   "execution_count": null,
   "metadata": {},
   "outputs": [],
   "source": []
  },
  {
   "cell_type": "code",
   "execution_count": 36,
   "metadata": {},
   "outputs": [
    {
     "name": "stdout",
     "output_type": "stream",
     "text": [
      "www.hackerearth.com\n"
     ]
    },
    {
     "data": {
      "text/plain": [
       "'WWW.HACKEREARTH.COM'"
      ]
     },
     "execution_count": 36,
     "metadata": {},
     "output_type": "execute_result"
    }
   ],
   "source": [
    "l=input()\n",
    "s=l.swapcase()\n",
    "s\n"
   ]
  },
  {
   "cell_type": "code",
   "execution_count": null,
   "metadata": {},
   "outputs": [],
   "source": [
    "# find the highest frequent element in the list\n",
    "# [1,1,1,1,2,3,1,2,3,1,2,2,3,3]\n",
    "# find the second highest Frequent element in the list\n",
    "# find the kth highest frequent element in the lsit"
   ]
  },
  {
   "cell_type": "code",
   "execution_count": 2,
   "metadata": {},
   "outputs": [
    {
     "data": {
      "text/plain": [
       "1"
      ]
     },
     "execution_count": 2,
     "metadata": {},
     "output_type": "execute_result"
    }
   ],
   "source": [
    "# find the highest frequent element in the list\n",
    "\n",
    "List=[1,1,1,1,2,3,1,2,3,1,2,2,3,3]\n",
    "def highestfrequency(List): \n",
    "    counter = 0\n",
    "    num = List[0] \n",
    "      \n",
    "    for i in List: \n",
    "        curr_frequency = List.count(i) \n",
    "        if(curr_frequency> counter): \n",
    "            counter = curr_frequency \n",
    "            num = i \n",
    "  \n",
    "    return num \n",
    "highestfrequency(List)\n",
    "#List=[1,1,1,1,2,3,1,2,3,1,2,2,3,3]"
   ]
  },
  {
   "cell_type": "code",
   "execution_count": 8,
   "metadata": {},
   "outputs": [
    {
     "name": "stdout",
     "output_type": "stream",
     "text": [
      "5\n",
      "4\n",
      "1\n"
     ]
    }
   ],
   "source": [
    "# a programme to find absolute value difference \n",
    "a=int(input())\n",
    "b=int(input())\n",
    "if a>b:\n",
    "    print(a-b)\n",
    "else:\n",
    "    print(b-a)"
   ]
  },
  {
   "cell_type": "code",
   "execution_count": 6,
   "metadata": {},
   "outputs": [
    {
     "name": "stdout",
     "output_type": "stream",
     "text": [
      "{1: 6, 2: 5, 3: 4}\n"
     ]
    },
    {
     "data": {
      "text/plain": [
       "2"
      ]
     },
     "execution_count": 6,
     "metadata": {},
     "output_type": "execute_result"
    }
   ],
   "source": [
    "# second largest frequency\n",
    "def secondlargestfrequency(l):\n",
    "    unique={}\n",
    "    for i in l:\n",
    "        if i in unique:\n",
    "            unique[i]+=1\n",
    "        else:\n",
    "            unique[i]=1\n",
    "    print(unique)\n",
    "    maxf=list(set(unique.values()))\n",
    "    maxf=sorted(maxf)[::-1]\n",
    "    maxfreq=maxf[len(maxf)-2]\n",
    "    maxfreqkeys = []\n",
    "    for i in unique.items():\n",
    "        if i[1] == maxfreq:\n",
    "            maxfreqkeys.append(i[0])\n",
    "            return min(maxfreqkeys)\n",
    "\n",
    "secondlargestfrequency([1,1,1,1,2,3,1,2,3,1,2,2,2,3,3])"
   ]
  },
  {
   "cell_type": "code",
   "execution_count": 2,
   "metadata": {},
   "outputs": [
    {
     "name": "stdout",
     "output_type": "stream",
     "text": [
      "1\n",
      "{1: 6, 2: 5, 3: 4}\n"
     ]
    },
    {
     "data": {
      "text/plain": [
       "3"
      ]
     },
     "execution_count": 2,
     "metadata": {},
     "output_type": "execute_result"
    }
   ],
   "source": [
    "# k th largest frequency\n",
    "k=int(input())\n",
    "def kthlargestfrequency(l):\n",
    "    unique={}\n",
    "    for i in l:\n",
    "        if i in unique:\n",
    "            unique[i]+=1\n",
    "        else:\n",
    "            unique[i]=1\n",
    "    print(unique)\n",
    "    maxf=list(set(unique.values()))\n",
    "    maxf=sorted(maxf)[::-1]\n",
    "    maxfreq=maxf[len(maxf)-k]\n",
    "    maxfreqkeys = []\n",
    "    for i in unique.items():\n",
    "        if i[1] == maxfreq:\n",
    "            maxfreqkeys.append(i[0])\n",
    "            return min(maxfreqkeys)\n",
    "\n",
    "kthlargestfrequency([1,1,1,1,2,3,1,2,3,1,2,2,2,3,3])\n",
    "#k=int(input())\n"
   ]
  },
  {
   "cell_type": "code",
   "execution_count": 10,
   "metadata": {},
   "outputs": [
    {
     "name": "stdout",
     "output_type": "stream",
     "text": [
      "2\n"
     ]
    }
   ],
   "source": [
    "# highest frequency Element in the list\n",
    "def highestfreq(l):\n",
    "    d={}\n",
    "    for i in l:\n",
    "        count=l.count(i)\n",
    "        if i not in d:\n",
    "            d[i]=count\n",
    "    return d\n",
    "d=highestfreq([1,1,1,1,2,3,1,2,3,1,2,2,2,3,3])\n",
    "l=sorted(d.values(),reverse=True)\n",
    "#max_val=max(d.values())\n",
    "max_val=l[1]\n",
    "for i in d.items():\n",
    "    if i[1]==max_val:\n",
    "        print(i[0])\n",
    "    "
   ]
  },
  {
   "cell_type": "code",
   "execution_count": 11,
   "metadata": {},
   "outputs": [
    {
     "name": "stdout",
     "output_type": "stream",
     "text": [
      "12\n",
      "12 13\n",
      "14\n",
      "14 11\n",
      "EXIT\n",
      "\n",
      "\n",
      "14\n"
     ]
    }
   ],
   "source": [
    "### Task1\n",
    "max_element = 0\n",
    "while True:\n",
    "    n=input()\n",
    "    if n==\"EXIT\":\n",
    "        break\n",
    "    num=int(n)\n",
    "    if num%2==0:\n",
    "        print(num,end=\" \")\n",
    "        if max_element<num:\n",
    "            max_element = num\n",
    "print(\"\\n\")\n",
    "print(max_element)\n",
    "\n",
    "        \n",
    "    "
   ]
  },
  {
   "cell_type": "code",
   "execution_count": 15,
   "metadata": {},
   "outputs": [
    {
     "name": "stdout",
     "output_type": "stream",
     "text": [
      "2\n",
      "siva.com\n",
      "ravi.com\n"
     ]
    },
    {
     "ename": "TypeError",
     "evalue": "tuple indices must be integers or slices, not list",
     "output_type": "error",
     "traceback": [
      "\u001b[1;31m---------------------------------------------------------------------------\u001b[0m",
      "\u001b[1;31mTypeError\u001b[0m                                 Traceback (most recent call last)",
      "\u001b[1;32m<ipython-input-15-709b6547ffdb>\u001b[0m in \u001b[0;36m<module>\u001b[1;34m\u001b[0m\n\u001b[0;32m     11\u001b[0m \u001b[0mm\u001b[0m\u001b[1;33m=\u001b[0m\u001b[0mmax\u001b[0m\u001b[1;33m(\u001b[0m\u001b[0md\u001b[0m\u001b[1;33m.\u001b[0m\u001b[0mvalues\u001b[0m\u001b[1;33m(\u001b[0m\u001b[1;33m)\u001b[0m\u001b[1;33m)\u001b[0m\u001b[1;33m\u001b[0m\u001b[1;33m\u001b[0m\u001b[0m\n\u001b[0;32m     12\u001b[0m \u001b[1;32mfor\u001b[0m \u001b[0mi\u001b[0m \u001b[1;32min\u001b[0m \u001b[0md\u001b[0m\u001b[1;33m.\u001b[0m\u001b[0mitems\u001b[0m\u001b[1;33m(\u001b[0m\u001b[1;33m)\u001b[0m\u001b[1;33m:\u001b[0m\u001b[1;33m\u001b[0m\u001b[1;33m\u001b[0m\u001b[0m\n\u001b[1;32m---> 13\u001b[1;33m     \u001b[1;32mif\u001b[0m \u001b[0mi\u001b[0m\u001b[1;33m[\u001b[0m\u001b[0ml\u001b[0m\u001b[1;33m]\u001b[0m\u001b[1;33m==\u001b[0m\u001b[0mm\u001b[0m\u001b[1;33m:\u001b[0m\u001b[1;33m\u001b[0m\u001b[1;33m\u001b[0m\u001b[0m\n\u001b[0m\u001b[0;32m     14\u001b[0m         \u001b[0mprint\u001b[0m\u001b[1;33m(\u001b[0m\u001b[0ml\u001b[0m\u001b[1;33m[\u001b[0m\u001b[1;36m0\u001b[0m\u001b[1;33m]\u001b[0m\u001b[1;33m)\u001b[0m\u001b[1;33m\u001b[0m\u001b[1;33m\u001b[0m\u001b[0m\n\u001b[0;32m     15\u001b[0m \u001b[1;33m\u001b[0m\u001b[0m\n",
      "\u001b[1;31mTypeError\u001b[0m: tuple indices must be integers or slices, not list"
     ]
    }
   ],
   "source": [
    "### task2 domain name repating and display it\n",
    "n=int(input())\n",
    "d={}\n",
    "for i in range(n):\n",
    "    iurl=input().split('.')\n",
    "    domain=iurl[-1]\n",
    "    if domain not in d:\n",
    "        d[domain]=1\n",
    "    else:\n",
    "        d[domain]+=1\n",
    "m=max(d.values())\n",
    "for i in d.items():\n",
    "    if i[l]==m:\n",
    "        print(i[0])\n",
    "    \n"
   ]
  },
  {
   "cell_type": "code",
   "execution_count": null,
   "metadata": {},
   "outputs": [],
   "source": []
  }
 ],
 "metadata": {
  "kernelspec": {
   "display_name": "Python 3",
   "language": "python",
   "name": "python3"
  },
  "language_info": {
   "codemirror_mode": {
    "name": "ipython",
    "version": 3
   },
   "file_extension": ".py",
   "mimetype": "text/x-python",
   "name": "python",
   "nbconvert_exporter": "python",
   "pygments_lexer": "ipython3",
   "version": "3.7.3"
  }
 },
 "nbformat": 4,
 "nbformat_minor": 2
}
