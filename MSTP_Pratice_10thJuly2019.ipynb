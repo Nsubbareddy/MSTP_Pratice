{
 "cells": [
  {
   "cell_type": "code",
   "execution_count": 2,
   "metadata": {},
   "outputs": [],
   "source": [
    "# files\n",
    "filepath='DataFiles/data.txt'\n",
    "with open(filepath,'w')as f:\n",
    "    f.write(\"good Morning!\")\n",
    "    f.write(\"this is second line\")"
   ]
  },
  {
   "cell_type": "code",
   "execution_count": 5,
   "metadata": {},
   "outputs": [
    {
     "name": "stdout",
     "output_type": "stream",
     "text": [
      "good Morning!\n",
      "hello\n",
      "hi\n"
     ]
    }
   ],
   "source": [
    "#Read data from file\n",
    "with open(filepath,'r')as f:\n",
    "    s=f.read()\n",
    "    print(s)"
   ]
  },
  {
   "cell_type": "code",
   "execution_count": 11,
   "metadata": {},
   "outputs": [
    {
     "name": "stdout",
     "output_type": "stream",
     "text": [
      "5\n"
     ]
    }
   ],
   "source": [
    "# Read Numbers from a file and sum them up\n",
    "with open(filepath,'r') as f:\n",
    "    s=0\n",
    "    c=0\n",
    "    for i in f:\n",
    "        s+=int(i)\n",
    "        c+=1\n",
    "    print(s//c)"
   ]
  },
  {
   "cell_type": "code",
   "execution_count": null,
   "metadata": {},
   "outputs": [],
   "source": [
    "# count the number of line\n",
    "with open(filepath,'r')as f:\n",
    "    linecount = 0:\n",
    "        for i in f:\n",
    "            linescount+=1\n",
    "            print(linecount)"
   ]
  },
  {
   "cell_type": "code",
   "execution_count": null,
   "metadata": {},
   "outputs": [],
   "source": [
    "# number of words in a file path\n",
    "with open (filepath,'r')as f:\n",
    "    wordcount=0\n",
    "    for i in f:\n",
    "        l=i.split(\" \")\n",
    "        wordcount+=len(l)\n",
    "        print(wordcount)"
   ]
  },
  {
   "cell_type": "code",
   "execution_count": 12,
   "metadata": {},
   "outputs": [
    {
     "name": "stdout",
     "output_type": "stream",
     "text": [
      "1\n"
     ]
    }
   ],
   "source": [
    "with open(filepath,'r')as f:\n",
    "    s=f.read().split(\" \")\n",
    "    s=\" \".join(s).split(\" \")\n",
    "    print(len(s))"
   ]
  },
  {
   "cell_type": "code",
   "execution_count": null,
   "metadata": {},
   "outputs": [],
   "source": [
    "#character count\n",
    "with open(filepath,'r') as f:\n",
    "    charcount=0\n",
    "    s=list(f.read())\n",
    "    print(s)"
   ]
  },
  {
   "cell_type": "code",
   "execution_count": 15,
   "metadata": {},
   "outputs": [
    {
     "name": "stdout",
     "output_type": "stream",
     "text": [
      "3\n",
      "2\n",
      "3 + 2 => 5\n",
      "3 - 2 => 1\n",
      "3 * 2 => 6\n"
     ]
    }
   ],
   "source": [
    "a = int(input())\n",
    "b = int(input())\n",
    "print(a,'+',b,'=>',a+b)\n",
    "print(a,'-',b,'=>',a-b)\n",
    "print(a,'*',b,'=>',a*b)"
   ]
  },
  {
   "cell_type": "code",
   "execution_count": 22,
   "metadata": {},
   "outputs": [
    {
     "name": "stdout",
     "output_type": "stream",
     "text": [
      "2100\n"
     ]
    },
    {
     "data": {
      "text/plain": [
       "True"
      ]
     },
     "execution_count": 22,
     "metadata": {},
     "output_type": "execute_result"
    }
   ],
   "source": [
    "def is_leap(year):\n",
    "    if((year%400==0 and year%100!=0)or year%4==0):\n",
    "        return True\n",
    "    else:\n",
    "        return False\n",
    "year = int(input())\n",
    "is_leap(year)\n"
   ]
  },
  {
   "cell_type": "code",
   "execution_count": null,
   "metadata": {},
   "outputs": [],
   "source": []
  }
 ],
 "metadata": {
  "kernelspec": {
   "display_name": "Python 3",
   "language": "python",
   "name": "python3"
  },
  "language_info": {
   "codemirror_mode": {
    "name": "ipython",
    "version": 3
   },
   "file_extension": ".py",
   "mimetype": "text/x-python",
   "name": "python",
   "nbconvert_exporter": "python",
   "pygments_lexer": "ipython3",
   "version": "3.7.3"
  }
 },
 "nbformat": 4,
 "nbformat_minor": 2
}
